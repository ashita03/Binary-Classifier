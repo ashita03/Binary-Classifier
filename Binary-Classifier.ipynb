{
 "cells": [
  {
   "cell_type": "code",
   "execution_count": 1,
   "metadata": {},
   "outputs": [],
   "source": [
    "import pandas as pd\n",
    "import numpy as np"
   ]
  },
  {
   "cell_type": "markdown",
   "metadata": {},
   "source": [
    "**LOADING DATA**\n",
    "\n",
    "The data stored is in the .json format and we have to convert into a suitable dataframe."
   ]
  },
  {
   "cell_type": "code",
   "execution_count": 2,
   "metadata": {},
   "outputs": [],
   "source": [
    "import json\n",
    "a = 'C:/Users/Ankita/Downloads/data.json'\n",
    "\n",
    "\n",
    "f = open (a, \"r\") \n",
    "  \n",
    "# Reading from file \n",
    "data = json.loads(f.read()) "
   ]
  },
  {
   "cell_type": "code",
   "execution_count": 3,
   "metadata": {},
   "outputs": [],
   "source": [
    "df1 = pd.json_normalize(data)"
   ]
  },
  {
   "cell_type": "code",
   "execution_count": 4,
   "metadata": {},
   "outputs": [],
   "source": [
    "df1.columns = df1.columns.map(lambda x: x.split(\".\")[-1])\n"
   ]
  },
  {
   "cell_type": "code",
   "execution_count": 5,
   "metadata": {},
   "outputs": [
    {
     "data": {
      "text/html": [
       "<div>\n",
       "<style scoped>\n",
       "    .dataframe tbody tr th:only-of-type {\n",
       "        vertical-align: middle;\n",
       "    }\n",
       "\n",
       "    .dataframe tbody tr th {\n",
       "        vertical-align: top;\n",
       "    }\n",
       "\n",
       "    .dataframe thead th {\n",
       "        text-align: right;\n",
       "    }\n",
       "</style>\n",
       "<table border=\"1\" class=\"dataframe\">\n",
       "  <thead>\n",
       "    <tr style=\"text-align: right;\">\n",
       "      <th></th>\n",
       "      <th>isSafe</th>\n",
       "      <th>baseUrl</th>\n",
       "      <th>title</th>\n",
       "      <th>desc</th>\n",
       "      <th>fresh</th>\n",
       "      <th>host</th>\n",
       "      <th>user-agent</th>\n",
       "      <th>content-type</th>\n",
       "      <th>org_id</th>\n",
       "      <th>user_session_id</th>\n",
       "      <th>...</th>\n",
       "      <th>hostname</th>\n",
       "      <th>ip</th>\n",
       "      <th>ips</th>\n",
       "      <th>originalUrl</th>\n",
       "      <th>path</th>\n",
       "      <th>protocol</th>\n",
       "      <th>secure</th>\n",
       "      <th>stale</th>\n",
       "      <th>subdomains</th>\n",
       "      <th>xhr</th>\n",
       "    </tr>\n",
       "  </thead>\n",
       "  <tbody>\n",
       "    <tr>\n",
       "      <th>0</th>\n",
       "      <td>True</td>\n",
       "      <td>/crm/note</td>\n",
       "      <td>Tina Johnson</td>\n",
       "      <td>Top recognize eat. Fact whom spend area thing ...</td>\n",
       "      <td>False</td>\n",
       "      <td>example.com</td>\n",
       "      <td>insomnia/2020.4.2</td>\n",
       "      <td>application/json</td>\n",
       "      <td>5f572820f65af8ac955b2e83</td>\n",
       "      <td>5fb27d3750b11901a35649fe</td>\n",
       "      <td>...</td>\n",
       "      <td>example.com</td>\n",
       "      <td>::ffff:117.99.96.244</td>\n",
       "      <td>[]</td>\n",
       "      <td>/crm/note</td>\n",
       "      <td>/note</td>\n",
       "      <td>http</td>\n",
       "      <td>False</td>\n",
       "      <td>True</td>\n",
       "      <td>[crm]</td>\n",
       "      <td>False</td>\n",
       "    </tr>\n",
       "    <tr>\n",
       "      <th>1</th>\n",
       "      <td>True</td>\n",
       "      <td>/crm/note</td>\n",
       "      <td>Clayton Cooper</td>\n",
       "      <td>As possible American many prepare four strong....</td>\n",
       "      <td>False</td>\n",
       "      <td>example.com</td>\n",
       "      <td>insomnia/2020.4.2</td>\n",
       "      <td>application/json</td>\n",
       "      <td>5f572820f65af8ac955b2e83</td>\n",
       "      <td>5fb27d3750b11901a35649fe</td>\n",
       "      <td>...</td>\n",
       "      <td>example.com</td>\n",
       "      <td>::ffff:117.99.96.244</td>\n",
       "      <td>[]</td>\n",
       "      <td>/crm/note</td>\n",
       "      <td>/note</td>\n",
       "      <td>http</td>\n",
       "      <td>False</td>\n",
       "      <td>True</td>\n",
       "      <td>[crm]</td>\n",
       "      <td>False</td>\n",
       "    </tr>\n",
       "    <tr>\n",
       "      <th>2</th>\n",
       "      <td>False</td>\n",
       "      <td>/crm/note</td>\n",
       "      <td>Curtis Wolfe</td>\n",
       "      <td>Tuesday Notes or 2 like 2 XSP Class</td>\n",
       "      <td>False</td>\n",
       "      <td>example.com</td>\n",
       "      <td>insomnia/2020.4.2</td>\n",
       "      <td>application/json</td>\n",
       "      <td>5f572820f65af8ac955b2e83</td>\n",
       "      <td>5fb27d3750b11901a35649fe</td>\n",
       "      <td>...</td>\n",
       "      <td>example.com</td>\n",
       "      <td>::ffff:117.99.96.244</td>\n",
       "      <td>[]</td>\n",
       "      <td>/crm/note</td>\n",
       "      <td>/note</td>\n",
       "      <td>http</td>\n",
       "      <td>False</td>\n",
       "      <td>True</td>\n",
       "      <td>[crm]</td>\n",
       "      <td>False</td>\n",
       "    </tr>\n",
       "    <tr>\n",
       "      <th>3</th>\n",
       "      <td>True</td>\n",
       "      <td>/crm/note</td>\n",
       "      <td>Laura Fisher</td>\n",
       "      <td>State third represent energy campaign not forg...</td>\n",
       "      <td>False</td>\n",
       "      <td>example.com</td>\n",
       "      <td>insomnia/2020.4.2</td>\n",
       "      <td>application/json</td>\n",
       "      <td>5f572820f65af8ac955b2e83</td>\n",
       "      <td>5fb27d3750b11901a35649fe</td>\n",
       "      <td>...</td>\n",
       "      <td>example.com</td>\n",
       "      <td>::ffff:117.99.96.244</td>\n",
       "      <td>[]</td>\n",
       "      <td>/crm/note</td>\n",
       "      <td>/note</td>\n",
       "      <td>http</td>\n",
       "      <td>False</td>\n",
       "      <td>True</td>\n",
       "      <td>[crm]</td>\n",
       "      <td>False</td>\n",
       "    </tr>\n",
       "    <tr>\n",
       "      <th>4</th>\n",
       "      <td>False</td>\n",
       "      <td>/crm/note</td>\n",
       "      <td>Tyler Santos</td>\n",
       "      <td>Us enjoy since. Time identify image position o...</td>\n",
       "      <td>False</td>\n",
       "      <td>example.com</td>\n",
       "      <td>insomnia/2020.4.2</td>\n",
       "      <td>application/json</td>\n",
       "      <td>5f572820f65af8ac955b2e83</td>\n",
       "      <td>5fb27d3750b11901a35649fe</td>\n",
       "      <td>...</td>\n",
       "      <td>example.com</td>\n",
       "      <td>::ffff:117.99.96.244</td>\n",
       "      <td>[]</td>\n",
       "      <td>/crm/note</td>\n",
       "      <td>/note</td>\n",
       "      <td>http</td>\n",
       "      <td>False</td>\n",
       "      <td>True</td>\n",
       "      <td>[crm]</td>\n",
       "      <td>False</td>\n",
       "    </tr>\n",
       "    <tr>\n",
       "      <th>...</th>\n",
       "      <td>...</td>\n",
       "      <td>...</td>\n",
       "      <td>...</td>\n",
       "      <td>...</td>\n",
       "      <td>...</td>\n",
       "      <td>...</td>\n",
       "      <td>...</td>\n",
       "      <td>...</td>\n",
       "      <td>...</td>\n",
       "      <td>...</td>\n",
       "      <td>...</td>\n",
       "      <td>...</td>\n",
       "      <td>...</td>\n",
       "      <td>...</td>\n",
       "      <td>...</td>\n",
       "      <td>...</td>\n",
       "      <td>...</td>\n",
       "      <td>...</td>\n",
       "      <td>...</td>\n",
       "      <td>...</td>\n",
       "      <td>...</td>\n",
       "    </tr>\n",
       "    <tr>\n",
       "      <th>995</th>\n",
       "      <td>True</td>\n",
       "      <td>/crm/note</td>\n",
       "      <td>Bridget Elliott</td>\n",
       "      <td>Recently crime before five thought bit. Card f...</td>\n",
       "      <td>False</td>\n",
       "      <td>example.com</td>\n",
       "      <td>insomnia/2020.4.2</td>\n",
       "      <td>application/json</td>\n",
       "      <td>5f572820f65af8ac955b2e83</td>\n",
       "      <td>5fb27d3750b11901a35649fe</td>\n",
       "      <td>...</td>\n",
       "      <td>example.com</td>\n",
       "      <td>::ffff:117.99.96.244</td>\n",
       "      <td>[]</td>\n",
       "      <td>/crm/note</td>\n",
       "      <td>/note</td>\n",
       "      <td>http</td>\n",
       "      <td>False</td>\n",
       "      <td>True</td>\n",
       "      <td>[crm]</td>\n",
       "      <td>False</td>\n",
       "    </tr>\n",
       "    <tr>\n",
       "      <th>996</th>\n",
       "      <td>False</td>\n",
       "      <td>/crm/note</td>\n",
       "      <td>James Rocha</td>\n",
       "      <td>&lt;img src=1 href=1 onerror=\"javascript:alert(1)...</td>\n",
       "      <td>False</td>\n",
       "      <td>example.com</td>\n",
       "      <td>insomnia/2020.4.2</td>\n",
       "      <td>application/json</td>\n",
       "      <td>5f572820f65af8ac955b2e83</td>\n",
       "      <td>5fb27d3750b11901a35649fe</td>\n",
       "      <td>...</td>\n",
       "      <td>example.com</td>\n",
       "      <td>::ffff:117.99.96.244</td>\n",
       "      <td>[]</td>\n",
       "      <td>/crm/note</td>\n",
       "      <td>/note</td>\n",
       "      <td>http</td>\n",
       "      <td>False</td>\n",
       "      <td>True</td>\n",
       "      <td>[crm]</td>\n",
       "      <td>False</td>\n",
       "    </tr>\n",
       "    <tr>\n",
       "      <th>997</th>\n",
       "      <td>True</td>\n",
       "      <td>/crm/note</td>\n",
       "      <td>Jasmine Gibson</td>\n",
       "      <td>Set nature they then low resource truth. Edge ...</td>\n",
       "      <td>False</td>\n",
       "      <td>example.com</td>\n",
       "      <td>insomnia/2020.4.2</td>\n",
       "      <td>application/json</td>\n",
       "      <td>5f572820f65af8ac955b2e83</td>\n",
       "      <td>5fb27d3750b11901a35649fe</td>\n",
       "      <td>...</td>\n",
       "      <td>example.com</td>\n",
       "      <td>::ffff:117.99.96.244</td>\n",
       "      <td>[]</td>\n",
       "      <td>/crm/note</td>\n",
       "      <td>/note</td>\n",
       "      <td>http</td>\n",
       "      <td>False</td>\n",
       "      <td>True</td>\n",
       "      <td>[crm]</td>\n",
       "      <td>False</td>\n",
       "    </tr>\n",
       "    <tr>\n",
       "      <th>998</th>\n",
       "      <td>True</td>\n",
       "      <td>/crm/note</td>\n",
       "      <td>Mr. Antonio Valdez DDS</td>\n",
       "      <td>Push case them such face suffer. Letter middle...</td>\n",
       "      <td>False</td>\n",
       "      <td>example.com</td>\n",
       "      <td>insomnia/2020.4.2</td>\n",
       "      <td>application/json</td>\n",
       "      <td>5f572820f65af8ac955b2e83</td>\n",
       "      <td>5fb27d3750b11901a35649fe</td>\n",
       "      <td>...</td>\n",
       "      <td>example.com</td>\n",
       "      <td>::ffff:117.99.96.244</td>\n",
       "      <td>[]</td>\n",
       "      <td>/crm/note</td>\n",
       "      <td>/note</td>\n",
       "      <td>http</td>\n",
       "      <td>False</td>\n",
       "      <td>True</td>\n",
       "      <td>[crm]</td>\n",
       "      <td>False</td>\n",
       "    </tr>\n",
       "    <tr>\n",
       "      <th>999</th>\n",
       "      <td>True</td>\n",
       "      <td>/crm/note</td>\n",
       "      <td>Brian Stephens</td>\n",
       "      <td>Family ready stay rule full than yet. Moment o...</td>\n",
       "      <td>False</td>\n",
       "      <td>example.com</td>\n",
       "      <td>insomnia/2020.4.2</td>\n",
       "      <td>application/json</td>\n",
       "      <td>5f572820f65af8ac955b2e83</td>\n",
       "      <td>5fb27d3750b11901a35649fe</td>\n",
       "      <td>...</td>\n",
       "      <td>example.com</td>\n",
       "      <td>::ffff:117.99.96.244</td>\n",
       "      <td>[]</td>\n",
       "      <td>/crm/note</td>\n",
       "      <td>/note</td>\n",
       "      <td>http</td>\n",
       "      <td>False</td>\n",
       "      <td>True</td>\n",
       "      <td>[crm]</td>\n",
       "      <td>False</td>\n",
       "    </tr>\n",
       "  </tbody>\n",
       "</table>\n",
       "<p>1000 rows × 24 columns</p>\n",
       "</div>"
      ],
      "text/plain": [
       "     isSafe    baseUrl                   title  \\\n",
       "0      True  /crm/note            Tina Johnson   \n",
       "1      True  /crm/note          Clayton Cooper   \n",
       "2     False  /crm/note            Curtis Wolfe   \n",
       "3      True  /crm/note            Laura Fisher   \n",
       "4     False  /crm/note            Tyler Santos   \n",
       "..      ...        ...                     ...   \n",
       "995    True  /crm/note         Bridget Elliott   \n",
       "996   False  /crm/note             James Rocha   \n",
       "997    True  /crm/note          Jasmine Gibson   \n",
       "998    True  /crm/note  Mr. Antonio Valdez DDS   \n",
       "999    True  /crm/note          Brian Stephens   \n",
       "\n",
       "                                                  desc  fresh         host  \\\n",
       "0    Top recognize eat. Fact whom spend area thing ...  False  example.com   \n",
       "1    As possible American many prepare four strong....  False  example.com   \n",
       "2                  Tuesday Notes or 2 like 2 XSP Class  False  example.com   \n",
       "3    State third represent energy campaign not forg...  False  example.com   \n",
       "4    Us enjoy since. Time identify image position o...  False  example.com   \n",
       "..                                                 ...    ...          ...   \n",
       "995  Recently crime before five thought bit. Card f...  False  example.com   \n",
       "996  <img src=1 href=1 onerror=\"javascript:alert(1)...  False  example.com   \n",
       "997  Set nature they then low resource truth. Edge ...  False  example.com   \n",
       "998  Push case them such face suffer. Letter middle...  False  example.com   \n",
       "999  Family ready stay rule full than yet. Moment o...  False  example.com   \n",
       "\n",
       "            user-agent      content-type                    org_id  \\\n",
       "0    insomnia/2020.4.2  application/json  5f572820f65af8ac955b2e83   \n",
       "1    insomnia/2020.4.2  application/json  5f572820f65af8ac955b2e83   \n",
       "2    insomnia/2020.4.2  application/json  5f572820f65af8ac955b2e83   \n",
       "3    insomnia/2020.4.2  application/json  5f572820f65af8ac955b2e83   \n",
       "4    insomnia/2020.4.2  application/json  5f572820f65af8ac955b2e83   \n",
       "..                 ...               ...                       ...   \n",
       "995  insomnia/2020.4.2  application/json  5f572820f65af8ac955b2e83   \n",
       "996  insomnia/2020.4.2  application/json  5f572820f65af8ac955b2e83   \n",
       "997  insomnia/2020.4.2  application/json  5f572820f65af8ac955b2e83   \n",
       "998  insomnia/2020.4.2  application/json  5f572820f65af8ac955b2e83   \n",
       "999  insomnia/2020.4.2  application/json  5f572820f65af8ac955b2e83   \n",
       "\n",
       "              user_session_id  ...     hostname                    ip ips  \\\n",
       "0    5fb27d3750b11901a35649fe  ...  example.com  ::ffff:117.99.96.244  []   \n",
       "1    5fb27d3750b11901a35649fe  ...  example.com  ::ffff:117.99.96.244  []   \n",
       "2    5fb27d3750b11901a35649fe  ...  example.com  ::ffff:117.99.96.244  []   \n",
       "3    5fb27d3750b11901a35649fe  ...  example.com  ::ffff:117.99.96.244  []   \n",
       "4    5fb27d3750b11901a35649fe  ...  example.com  ::ffff:117.99.96.244  []   \n",
       "..                        ...  ...          ...                   ...  ..   \n",
       "995  5fb27d3750b11901a35649fe  ...  example.com  ::ffff:117.99.96.244  []   \n",
       "996  5fb27d3750b11901a35649fe  ...  example.com  ::ffff:117.99.96.244  []   \n",
       "997  5fb27d3750b11901a35649fe  ...  example.com  ::ffff:117.99.96.244  []   \n",
       "998  5fb27d3750b11901a35649fe  ...  example.com  ::ffff:117.99.96.244  []   \n",
       "999  5fb27d3750b11901a35649fe  ...  example.com  ::ffff:117.99.96.244  []   \n",
       "\n",
       "    originalUrl   path protocol secure stale subdomains    xhr  \n",
       "0     /crm/note  /note     http  False  True      [crm]  False  \n",
       "1     /crm/note  /note     http  False  True      [crm]  False  \n",
       "2     /crm/note  /note     http  False  True      [crm]  False  \n",
       "3     /crm/note  /note     http  False  True      [crm]  False  \n",
       "4     /crm/note  /note     http  False  True      [crm]  False  \n",
       "..          ...    ...      ...    ...   ...        ...    ...  \n",
       "995   /crm/note  /note     http  False  True      [crm]  False  \n",
       "996   /crm/note  /note     http  False  True      [crm]  False  \n",
       "997   /crm/note  /note     http  False  True      [crm]  False  \n",
       "998   /crm/note  /note     http  False  True      [crm]  False  \n",
       "999   /crm/note  /note     http  False  True      [crm]  False  \n",
       "\n",
       "[1000 rows x 24 columns]"
      ]
     },
     "execution_count": 5,
     "metadata": {},
     "output_type": "execute_result"
    }
   ],
   "source": [
    "df1"
   ]
  },
  {
   "cell_type": "code",
   "execution_count": 6,
   "metadata": {},
   "outputs": [
    {
     "data": {
      "text/plain": [
       "isSafe             0\n",
       "baseUrl            0\n",
       "title              0\n",
       "desc               0\n",
       "fresh              0\n",
       "host               0\n",
       "user-agent         0\n",
       "content-type       0\n",
       "org_id             0\n",
       "user_session_id    0\n",
       "accept             0\n",
       "content-length     0\n",
       "name               0\n",
       "role               0\n",
       "hostname           0\n",
       "ip                 0\n",
       "ips                0\n",
       "originalUrl        0\n",
       "path               0\n",
       "protocol           0\n",
       "secure             0\n",
       "stale              0\n",
       "subdomains         0\n",
       "xhr                0\n",
       "dtype: int64"
      ]
     },
     "execution_count": 6,
     "metadata": {},
     "output_type": "execute_result"
    }
   ],
   "source": [
    "df1.isnull().sum()"
   ]
  },
  {
   "cell_type": "code",
   "execution_count": 7,
   "metadata": {},
   "outputs": [
    {
     "data": {
      "text/html": [
       "<div>\n",
       "<style scoped>\n",
       "    .dataframe tbody tr th:only-of-type {\n",
       "        vertical-align: middle;\n",
       "    }\n",
       "\n",
       "    .dataframe tbody tr th {\n",
       "        vertical-align: top;\n",
       "    }\n",
       "\n",
       "    .dataframe thead th {\n",
       "        text-align: right;\n",
       "    }\n",
       "</style>\n",
       "<table border=\"1\" class=\"dataframe\">\n",
       "  <thead>\n",
       "    <tr style=\"text-align: right;\">\n",
       "      <th></th>\n",
       "      <th>title</th>\n",
       "      <th>desc</th>\n",
       "      <th>isSafe</th>\n",
       "    </tr>\n",
       "  </thead>\n",
       "  <tbody>\n",
       "    <tr>\n",
       "      <th>0</th>\n",
       "      <td>Tina Johnson</td>\n",
       "      <td>Top recognize eat. Fact whom spend area thing ...</td>\n",
       "      <td>True</td>\n",
       "    </tr>\n",
       "    <tr>\n",
       "      <th>1</th>\n",
       "      <td>Clayton Cooper</td>\n",
       "      <td>As possible American many prepare four strong....</td>\n",
       "      <td>True</td>\n",
       "    </tr>\n",
       "    <tr>\n",
       "      <th>2</th>\n",
       "      <td>Curtis Wolfe</td>\n",
       "      <td>Tuesday Notes or 2 like 2 XSP Class</td>\n",
       "      <td>False</td>\n",
       "    </tr>\n",
       "    <tr>\n",
       "      <th>3</th>\n",
       "      <td>Laura Fisher</td>\n",
       "      <td>State third represent energy campaign not forg...</td>\n",
       "      <td>True</td>\n",
       "    </tr>\n",
       "    <tr>\n",
       "      <th>4</th>\n",
       "      <td>Tyler Santos</td>\n",
       "      <td>Us enjoy since. Time identify image position o...</td>\n",
       "      <td>False</td>\n",
       "    </tr>\n",
       "  </tbody>\n",
       "</table>\n",
       "</div>"
      ],
      "text/plain": [
       "            title                                               desc  isSafe\n",
       "0    Tina Johnson  Top recognize eat. Fact whom spend area thing ...    True\n",
       "1  Clayton Cooper  As possible American many prepare four strong....    True\n",
       "2    Curtis Wolfe                Tuesday Notes or 2 like 2 XSP Class   False\n",
       "3    Laura Fisher  State third represent energy campaign not forg...    True\n",
       "4    Tyler Santos  Us enjoy since. Time identify image position o...   False"
      ]
     },
     "execution_count": 7,
     "metadata": {},
     "output_type": "execute_result"
    }
   ],
   "source": [
    "df = pd.DataFrame(df1, columns=['title','desc','isSafe'])\n",
    "df.head()"
   ]
  },
  {
   "cell_type": "markdown",
   "metadata": {},
   "source": [
    "**DATA PRE-PROCESSING & ANALYSIS**"
   ]
  },
  {
   "cell_type": "code",
   "execution_count": 8,
   "metadata": {},
   "outputs": [],
   "source": [
    "from sklearn.preprocessing import LabelEncoder\n",
    "le = LabelEncoder()\n",
    "le.fit(df['isSafe'])\n",
    "df['y'] = le.transform(df['isSafe'])"
   ]
  },
  {
   "cell_type": "code",
   "execution_count": 9,
   "metadata": {},
   "outputs": [
    {
     "data": {
      "text/html": [
       "<div>\n",
       "<style scoped>\n",
       "    .dataframe tbody tr th:only-of-type {\n",
       "        vertical-align: middle;\n",
       "    }\n",
       "\n",
       "    .dataframe tbody tr th {\n",
       "        vertical-align: top;\n",
       "    }\n",
       "\n",
       "    .dataframe thead th {\n",
       "        text-align: right;\n",
       "    }\n",
       "</style>\n",
       "<table border=\"1\" class=\"dataframe\">\n",
       "  <thead>\n",
       "    <tr style=\"text-align: right;\">\n",
       "      <th></th>\n",
       "      <th>title</th>\n",
       "      <th>desc</th>\n",
       "      <th>isSafe</th>\n",
       "      <th>y</th>\n",
       "    </tr>\n",
       "  </thead>\n",
       "  <tbody>\n",
       "    <tr>\n",
       "      <th>0</th>\n",
       "      <td>Tina Johnson</td>\n",
       "      <td>Top recognize eat. Fact whom spend area thing ...</td>\n",
       "      <td>True</td>\n",
       "      <td>1</td>\n",
       "    </tr>\n",
       "    <tr>\n",
       "      <th>1</th>\n",
       "      <td>Clayton Cooper</td>\n",
       "      <td>As possible American many prepare four strong....</td>\n",
       "      <td>True</td>\n",
       "      <td>1</td>\n",
       "    </tr>\n",
       "    <tr>\n",
       "      <th>2</th>\n",
       "      <td>Curtis Wolfe</td>\n",
       "      <td>Tuesday Notes or 2 like 2 XSP Class</td>\n",
       "      <td>False</td>\n",
       "      <td>0</td>\n",
       "    </tr>\n",
       "    <tr>\n",
       "      <th>3</th>\n",
       "      <td>Laura Fisher</td>\n",
       "      <td>State third represent energy campaign not forg...</td>\n",
       "      <td>True</td>\n",
       "      <td>1</td>\n",
       "    </tr>\n",
       "    <tr>\n",
       "      <th>4</th>\n",
       "      <td>Tyler Santos</td>\n",
       "      <td>Us enjoy since. Time identify image position o...</td>\n",
       "      <td>False</td>\n",
       "      <td>0</td>\n",
       "    </tr>\n",
       "    <tr>\n",
       "      <th>...</th>\n",
       "      <td>...</td>\n",
       "      <td>...</td>\n",
       "      <td>...</td>\n",
       "      <td>...</td>\n",
       "    </tr>\n",
       "    <tr>\n",
       "      <th>995</th>\n",
       "      <td>Bridget Elliott</td>\n",
       "      <td>Recently crime before five thought bit. Card f...</td>\n",
       "      <td>True</td>\n",
       "      <td>1</td>\n",
       "    </tr>\n",
       "    <tr>\n",
       "      <th>996</th>\n",
       "      <td>James Rocha</td>\n",
       "      <td>&lt;img src=1 href=1 onerror=\"javascript:alert(1)...</td>\n",
       "      <td>False</td>\n",
       "      <td>0</td>\n",
       "    </tr>\n",
       "    <tr>\n",
       "      <th>997</th>\n",
       "      <td>Jasmine Gibson</td>\n",
       "      <td>Set nature they then low resource truth. Edge ...</td>\n",
       "      <td>True</td>\n",
       "      <td>1</td>\n",
       "    </tr>\n",
       "    <tr>\n",
       "      <th>998</th>\n",
       "      <td>Mr. Antonio Valdez DDS</td>\n",
       "      <td>Push case them such face suffer. Letter middle...</td>\n",
       "      <td>True</td>\n",
       "      <td>1</td>\n",
       "    </tr>\n",
       "    <tr>\n",
       "      <th>999</th>\n",
       "      <td>Brian Stephens</td>\n",
       "      <td>Family ready stay rule full than yet. Moment o...</td>\n",
       "      <td>True</td>\n",
       "      <td>1</td>\n",
       "    </tr>\n",
       "  </tbody>\n",
       "</table>\n",
       "<p>1000 rows × 4 columns</p>\n",
       "</div>"
      ],
      "text/plain": [
       "                      title  \\\n",
       "0              Tina Johnson   \n",
       "1            Clayton Cooper   \n",
       "2              Curtis Wolfe   \n",
       "3              Laura Fisher   \n",
       "4              Tyler Santos   \n",
       "..                      ...   \n",
       "995         Bridget Elliott   \n",
       "996             James Rocha   \n",
       "997          Jasmine Gibson   \n",
       "998  Mr. Antonio Valdez DDS   \n",
       "999          Brian Stephens   \n",
       "\n",
       "                                                  desc  isSafe  y  \n",
       "0    Top recognize eat. Fact whom spend area thing ...    True  1  \n",
       "1    As possible American many prepare four strong....    True  1  \n",
       "2                  Tuesday Notes or 2 like 2 XSP Class   False  0  \n",
       "3    State third represent energy campaign not forg...    True  1  \n",
       "4    Us enjoy since. Time identify image position o...   False  0  \n",
       "..                                                 ...     ... ..  \n",
       "995  Recently crime before five thought bit. Card f...    True  1  \n",
       "996  <img src=1 href=1 onerror=\"javascript:alert(1)...   False  0  \n",
       "997  Set nature they then low resource truth. Edge ...    True  1  \n",
       "998  Push case them such face suffer. Letter middle...    True  1  \n",
       "999  Family ready stay rule full than yet. Moment o...    True  1  \n",
       "\n",
       "[1000 rows x 4 columns]"
      ]
     },
     "execution_count": 9,
     "metadata": {},
     "output_type": "execute_result"
    }
   ],
   "source": [
    "df"
   ]
  },
  {
   "cell_type": "code",
   "execution_count": 10,
   "metadata": {},
   "outputs": [
    {
     "data": {
      "text/plain": [
       "<AxesSubplot:xlabel='isSafe', ylabel='count'>"
      ]
     },
     "execution_count": 10,
     "metadata": {},
     "output_type": "execute_result"
    },
    {
     "data": {
      "image/png": "[encoded data removed]",
      "text/plain": [
       "<Figure size 432x288 with 1 Axes>"
      ]
     },
     "metadata": {
      "needs_background": "light"
     },
     "output_type": "display_data"
    }
   ],
   "source": [
    "import seaborn as sns\n",
    "sns.countplot(x='isSafe',data=df)"
   ]
  },
  {
   "cell_type": "code",
   "execution_count": 11,
   "metadata": {},
   "outputs": [],
   "source": [
    "import nltk\n",
    "from nltk.corpus import stopwords\n",
    "from nltk.stem.snowball import SnowballStemmer\n",
    "\n",
    "\n",
    "stop_words = set(stopwords.words('english'))\n",
    "sno = nltk.stem.SnowballStemmer('english')"
   ]
  },
  {
   "cell_type": "code",
   "execution_count": 12,
   "metadata": {},
   "outputs": [],
   "source": [
    "str=[]\n",
    "for sent in (df['desc']):\n",
    "    filtered_sentence=[]\n",
    "#print(sent);\n",
    "    for w in sent.split():\n",
    "        \n",
    "\n",
    "        if(w.lower() not in stop_words):\n",
    "            s=w.lower().encode('utf8')\n",
    "            filtered_sentence.append(s)\n",
    "    str1 = b\" \".join(filtered_sentence) \n",
    "\n",
    "    str.append(str1)\n",
    "df['c_desc']=str #adding a column of CleanedText \n",
    "df['c_desc']=df['c_desc'].str.decode(\"utf-8\")"
   ]
  },
  {
   "cell_type": "code",
   "execution_count": 13,
   "metadata": {},
   "outputs": [
    {
     "data": {
      "text/html": [
       "<div>\n",
       "<style scoped>\n",
       "    .dataframe tbody tr th:only-of-type {\n",
       "        vertical-align: middle;\n",
       "    }\n",
       "\n",
       "    .dataframe tbody tr th {\n",
       "        vertical-align: top;\n",
       "    }\n",
       "\n",
       "    .dataframe thead th {\n",
       "        text-align: right;\n",
       "    }\n",
       "</style>\n",
       "<table border=\"1\" class=\"dataframe\">\n",
       "  <thead>\n",
       "    <tr style=\"text-align: right;\">\n",
       "      <th></th>\n",
       "      <th>title</th>\n",
       "      <th>desc</th>\n",
       "      <th>isSafe</th>\n",
       "      <th>y</th>\n",
       "      <th>c_desc</th>\n",
       "    </tr>\n",
       "  </thead>\n",
       "  <tbody>\n",
       "    <tr>\n",
       "      <th>0</th>\n",
       "      <td>Tina Johnson</td>\n",
       "      <td>Top recognize eat. Fact whom spend area thing ...</td>\n",
       "      <td>True</td>\n",
       "      <td>1</td>\n",
       "      <td>top recognize eat. fact spend area thing mater...</td>\n",
       "    </tr>\n",
       "    <tr>\n",
       "      <th>1</th>\n",
       "      <td>Clayton Cooper</td>\n",
       "      <td>As possible American many prepare four strong....</td>\n",
       "      <td>True</td>\n",
       "      <td>1</td>\n",
       "      <td>possible american many prepare four strong. vi...</td>\n",
       "    </tr>\n",
       "    <tr>\n",
       "      <th>2</th>\n",
       "      <td>Curtis Wolfe</td>\n",
       "      <td>Tuesday Notes or 2 like 2 XSP Class</td>\n",
       "      <td>False</td>\n",
       "      <td>0</td>\n",
       "      <td>tuesday notes 2 like 2 xsp class</td>\n",
       "    </tr>\n",
       "    <tr>\n",
       "      <th>3</th>\n",
       "      <td>Laura Fisher</td>\n",
       "      <td>State third represent energy campaign not forg...</td>\n",
       "      <td>True</td>\n",
       "      <td>1</td>\n",
       "      <td>state third represent energy campaign forget t...</td>\n",
       "    </tr>\n",
       "    <tr>\n",
       "      <th>4</th>\n",
       "      <td>Tyler Santos</td>\n",
       "      <td>Us enjoy since. Time identify image position o...</td>\n",
       "      <td>False</td>\n",
       "      <td>0</td>\n",
       "      <td>us enjoy since. time identify image position o...</td>\n",
       "    </tr>\n",
       "    <tr>\n",
       "      <th>...</th>\n",
       "      <td>...</td>\n",
       "      <td>...</td>\n",
       "      <td>...</td>\n",
       "      <td>...</td>\n",
       "      <td>...</td>\n",
       "    </tr>\n",
       "    <tr>\n",
       "      <th>995</th>\n",
       "      <td>Bridget Elliott</td>\n",
       "      <td>Recently crime before five thought bit. Card f...</td>\n",
       "      <td>True</td>\n",
       "      <td>1</td>\n",
       "      <td>recently crime five thought bit. card focus an...</td>\n",
       "    </tr>\n",
       "    <tr>\n",
       "      <th>996</th>\n",
       "      <td>James Rocha</td>\n",
       "      <td>&lt;img src=1 href=1 onerror=\"javascript:alert(1)...</td>\n",
       "      <td>False</td>\n",
       "      <td>0</td>\n",
       "      <td>&lt;img src=1 href=1 onerror=\"javascript:alert(1)...</td>\n",
       "    </tr>\n",
       "    <tr>\n",
       "      <th>997</th>\n",
       "      <td>Jasmine Gibson</td>\n",
       "      <td>Set nature they then low resource truth. Edge ...</td>\n",
       "      <td>True</td>\n",
       "      <td>1</td>\n",
       "      <td>set nature low resource truth. edge recent med...</td>\n",
       "    </tr>\n",
       "    <tr>\n",
       "      <th>998</th>\n",
       "      <td>Mr. Antonio Valdez DDS</td>\n",
       "      <td>Push case them such face suffer. Letter middle...</td>\n",
       "      <td>True</td>\n",
       "      <td>1</td>\n",
       "      <td>push case face suffer. letter middle term each...</td>\n",
       "    </tr>\n",
       "    <tr>\n",
       "      <th>999</th>\n",
       "      <td>Brian Stephens</td>\n",
       "      <td>Family ready stay rule full than yet. Moment o...</td>\n",
       "      <td>True</td>\n",
       "      <td>1</td>\n",
       "      <td>family ready stay rule full yet. moment house ...</td>\n",
       "    </tr>\n",
       "  </tbody>\n",
       "</table>\n",
       "<p>1000 rows × 5 columns</p>\n",
       "</div>"
      ],
      "text/plain": [
       "                      title  \\\n",
       "0              Tina Johnson   \n",
       "1            Clayton Cooper   \n",
       "2              Curtis Wolfe   \n",
       "3              Laura Fisher   \n",
       "4              Tyler Santos   \n",
       "..                      ...   \n",
       "995         Bridget Elliott   \n",
       "996             James Rocha   \n",
       "997          Jasmine Gibson   \n",
       "998  Mr. Antonio Valdez DDS   \n",
       "999          Brian Stephens   \n",
       "\n",
       "                                                  desc  isSafe  y  \\\n",
       "0    Top recognize eat. Fact whom spend area thing ...    True  1   \n",
       "1    As possible American many prepare four strong....    True  1   \n",
       "2                  Tuesday Notes or 2 like 2 XSP Class   False  0   \n",
       "3    State third represent energy campaign not forg...    True  1   \n",
       "4    Us enjoy since. Time identify image position o...   False  0   \n",
       "..                                                 ...     ... ..   \n",
       "995  Recently crime before five thought bit. Card f...    True  1   \n",
       "996  <img src=1 href=1 onerror=\"javascript:alert(1)...   False  0   \n",
       "997  Set nature they then low resource truth. Edge ...    True  1   \n",
       "998  Push case them such face suffer. Letter middle...    True  1   \n",
       "999  Family ready stay rule full than yet. Moment o...    True  1   \n",
       "\n",
       "                                                c_desc  \n",
       "0    top recognize eat. fact spend area thing mater...  \n",
       "1    possible american many prepare four strong. vi...  \n",
       "2                     tuesday notes 2 like 2 xsp class  \n",
       "3    state third represent energy campaign forget t...  \n",
       "4    us enjoy since. time identify image position o...  \n",
       "..                                                 ...  \n",
       "995  recently crime five thought bit. card focus an...  \n",
       "996  <img src=1 href=1 onerror=\"javascript:alert(1)...  \n",
       "997  set nature low resource truth. edge recent med...  \n",
       "998  push case face suffer. letter middle term each...  \n",
       "999  family ready stay rule full yet. moment house ...  \n",
       "\n",
       "[1000 rows x 5 columns]"
      ]
     },
     "execution_count": 13,
     "metadata": {},
     "output_type": "execute_result"
    }
   ],
   "source": [
    "df"
   ]
  },
  {
   "cell_type": "markdown",
   "metadata": {},
   "source": [
    "**TRAIN TEST SPLIT**"
   ]
  },
  {
   "cell_type": "code",
   "execution_count": 14,
   "metadata": {},
   "outputs": [],
   "source": [
    "from sklearn.model_selection import train_test_split\n",
    "\n",
    "# split dataset into training and validation set\n",
    "Xtrain, Xtest, ytrain, ytest = train_test_split(df['c_desc'], df['y'], test_size=0.2, random_state=9)"
   ]
  },
  {
   "cell_type": "markdown",
   "metadata": {},
   "source": [
    "**FEATURE ENGINEERING**"
   ]
  },
  {
   "cell_type": "code",
   "execution_count": 15,
   "metadata": {},
   "outputs": [],
   "source": [
    "from sklearn.feature_extraction.text import TfidfTransformer\n",
    "from sklearn.feature_extraction.text import TfidfVectorizer\n",
    "\n",
    "tfidf_vectorizer = TfidfVectorizer()\n",
    "\n",
    "# create TF-IDF features\n",
    "Xtrain_tfidf = tfidf_vectorizer.fit_transform(Xtrain)\n",
    "Xtest_tfidf = tfidf_vectorizer.transform(Xtest)"
   ]
  },
  {
   "cell_type": "code",
   "execution_count": 16,
   "metadata": {},
   "outputs": [
    {
     "name": "stdout",
     "output_type": "stream",
     "text": [
      "(800,)\n",
      "(800,)\n"
     ]
    }
   ],
   "source": [
    "print(Xtrain.shape)\n",
    "print(ytrain.shape)"
   ]
  },
  {
   "cell_type": "code",
   "execution_count": 17,
   "metadata": {},
   "outputs": [
    {
     "name": "stdout",
     "output_type": "stream",
     "text": [
      "accuracy 0.82\n"
     ]
    }
   ],
   "source": [
    "from sklearn.naive_bayes import MultinomialNB\n",
    "from sklearn.pipeline import Pipeline\n",
    "from sklearn.feature_extraction.text import TfidfTransformer\n",
    "from sklearn.feature_extraction.text import CountVectorizer\n",
    "\n",
    "nb = Pipeline([('vect', CountVectorizer()),\n",
    "               ('clf', MultinomialNB()),\n",
    "              ])\n",
    "nb.fit(Xtrain, ytrain)\n",
    "\n",
    "from sklearn.metrics import classification_report\n",
    "y_pred = nb.predict(Xtest)\n",
    "\n",
    "from sklearn.metrics import accuracy_score\n",
    "print('accuracy %s' % accuracy_score(y_pred, ytest))"
   ]
  },
  {
   "cell_type": "code",
   "execution_count": 18,
   "metadata": {},
   "outputs": [
    {
     "name": "stdout",
     "output_type": "stream",
     "text": [
      "classifier accuracy is 82.00%\n"
     ]
    }
   ],
   "source": [
    "print(\"classifier accuracy is {:.2f}%\".format(accuracy_score(y_pred, ytest) * 100))"
   ]
  },
  {
   "cell_type": "code",
   "execution_count": 19,
   "metadata": {},
   "outputs": [
    {
     "name": "stdout",
     "output_type": "stream",
     "text": [
      "[False  True False  True False]\n"
     ]
    }
   ],
   "source": [
    "y = le.inverse_transform(y_pred)\n",
    "\n",
    "print(y[0:5])"
   ]
  },
  {
   "cell_type": "markdown",
   "metadata": {},
   "source": [
    "# MODEL PREDICTION USING DEEP LEARNING"
   ]
  },
  {
   "cell_type": "code",
   "execution_count": 20,
   "metadata": {},
   "outputs": [],
   "source": [
    "# split dataset into training and validation set\n",
    "X_train, X_test, y_train, y_test = train_test_split(df['c_desc'], df['y'], test_size=0.2, random_state=9)"
   ]
  },
  {
   "cell_type": "code",
   "execution_count": 21,
   "metadata": {},
   "outputs": [],
   "source": [
    "from sklearn.feature_extraction.text import CountVectorizer\n",
    "from sklearn.feature_extraction.text import TfidfTransformer\n",
    "\n",
    "#Vectorization\n",
    "bow = CountVectorizer()\n",
    "X_train = bow.fit_transform(X_train)\n",
    "X_test = bow.transform(X_test)"
   ]
  },
  {
   "cell_type": "code",
   "execution_count": 22,
   "metadata": {},
   "outputs": [],
   "source": [
    "tfidf = TfidfTransformer()\n",
    "\n",
    "X_train = tfidf.fit_transform(X_train)\n",
    "X_test = tfidf.transform(X_test)\n",
    "\n",
    "X_train=X_train.toarray()\n",
    "X_test=X_test.toarray()"
   ]
  },
  {
   "cell_type": "markdown",
   "metadata": {},
   "source": [
    "**BUILDING THE MODEL**\n"
   ]
  },
  {
   "cell_type": "code",
   "execution_count": 23,
   "metadata": {},
   "outputs": [],
   "source": [
    "from tensorflow.keras.models import Sequential\n",
    "from tensorflow.keras.layers import Dense, Activation, Dropout"
   ]
  },
  {
   "cell_type": "code",
   "execution_count": 24,
   "metadata": {},
   "outputs": [
    {
     "data": {
      "text/plain": [
       "(800, 997)"
      ]
     },
     "execution_count": 24,
     "metadata": {},
     "output_type": "execute_result"
    }
   ],
   "source": [
    "X_train.shape"
   ]
  },
  {
   "cell_type": "code",
   "execution_count": 25,
   "metadata": {},
   "outputs": [],
   "source": [
    "model = Sequential()\n",
    "model.add(Dense(units=997,activation='relu'))\n",
    "model.add(Dropout(0.5))\n",
    "\n",
    "model.add(Dense(units=450,activation='relu'))\n",
    "model.add(Dropout(0.5))\n",
    "\n",
    "model.add(Dense(units=300,activation='relu'))\n",
    "model.add(Dropout(0.5))\n",
    "\n",
    "model.add(Dense(units=50,activation='relu'))\n",
    "model.add(Dropout(0.5))\n",
    "\n",
    "model.add(Dense(units=1,activation='sigmoid'))\n",
    "\n",
    "model.compile(loss='binary_crossentropy', optimizer='adam', metrics=['accuracy'])"
   ]
  },
  {
   "cell_type": "code",
   "execution_count": 26,
   "metadata": {},
   "outputs": [],
   "source": [
    "from tensorflow.keras.callbacks import EarlyStopping\n",
    "early_stop = EarlyStopping(monitor='val_loss', mode='min', verbose=1, patience=10)"
   ]
  },
  {
   "cell_type": "code",
   "execution_count": 27,
   "metadata": {},
   "outputs": [
    {
     "name": "stdout",
     "output_type": "stream",
     "text": [
      "Epoch 1/40\n",
      "25/25 [==============================] - 1s 27ms/step - loss: 0.6562 - accuracy: 0.5962 - val_loss: 0.5974 - val_accuracy: 0.7600\n",
      "Epoch 2/40\n",
      "25/25 [==============================] - 0s 18ms/step - loss: 0.4875 - accuracy: 0.8075 - val_loss: 0.4679 - val_accuracy: 0.8200\n",
      "Epoch 3/40\n",
      "25/25 [==============================] - 0s 18ms/step - loss: 0.2215 - accuracy: 0.9125 - val_loss: 0.6928 - val_accuracy: 0.7250\n",
      "Epoch 4/40\n",
      "25/25 [==============================] - 0s 18ms/step - loss: 0.0533 - accuracy: 0.9837 - val_loss: 1.3297 - val_accuracy: 0.7850\n",
      "Epoch 5/40\n",
      "25/25 [==============================] - 0s 18ms/step - loss: 0.0241 - accuracy: 0.9937 - val_loss: 1.3883 - val_accuracy: 0.7650\n",
      "Epoch 6/40\n",
      "25/25 [==============================] - 0s 19ms/step - loss: 0.0165 - accuracy: 0.9937 - val_loss: 1.3309 - val_accuracy: 0.7450\n",
      "Epoch 7/40\n",
      "25/25 [==============================] - 1s 20ms/step - loss: 0.0034 - accuracy: 1.0000 - val_loss: 1.5270 - val_accuracy: 0.7600\n",
      "Epoch 8/40\n",
      "25/25 [==============================] - 1s 24ms/step - loss: 0.0084 - accuracy: 0.9975 - val_loss: 1.5801 - val_accuracy: 0.7700\n",
      "Epoch 9/40\n",
      "25/25 [==============================] - ETA: 0s - loss: 0.0018 - accuracy: 1.00 - 1s 29ms/step - loss: 0.0018 - accuracy: 1.0000 - val_loss: 1.7279 - val_accuracy: 0.7700\n",
      "Epoch 10/40\n",
      "25/25 [==============================] - 1s 25ms/step - loss: 0.0012 - accuracy: 1.0000 - val_loss: 1.7060 - val_accuracy: 0.7550\n",
      "Epoch 11/40\n",
      "25/25 [==============================] - 1s 24ms/step - loss: 7.1187e-04 - accuracy: 1.0000 - val_loss: 1.7929 - val_accuracy: 0.7550\n",
      "Epoch 12/40\n",
      "25/25 [==============================] - 1s 26ms/step - loss: 6.1384e-04 - accuracy: 1.0000 - val_loss: 1.8776 - val_accuracy: 0.7650\n",
      "Epoch 00012: early stopping\n"
     ]
    },
    {
     "data": {
      "text/plain": [
       "<tensorflow.python.keras.callbacks.History at 0x22d19bef710>"
      ]
     },
     "execution_count": 27,
     "metadata": {},
     "output_type": "execute_result"
    }
   ],
   "source": [
    "model.fit(x=X_train, \n",
    "          y=y_train, \n",
    "          epochs=40,\n",
    "          validation_data=(X_test, y_test), verbose=1,\n",
    "          callbacks=[early_stop]\n",
    "          )"
   ]
  },
  {
   "cell_type": "markdown",
   "metadata": {},
   "source": [
    "**EVALUATION**"
   ]
  },
  {
   "cell_type": "code",
   "execution_count": 28,
   "metadata": {},
   "outputs": [
    {
     "name": "stdout",
     "output_type": "stream",
     "text": [
      "WARNING:tensorflow:From <ipython-input-28-bc83193b8b59>:1: Sequential.predict_classes (from tensorflow.python.keras.engine.sequential) is deprecated and will be removed after 2021-01-01.\n",
      "Instructions for updating:\n",
      "Please use instead:* `np.argmax(model.predict(x), axis=-1)`,   if your model does multi-class classification   (e.g. if it uses a `softmax` last-layer activation).* `(model.predict(x) > 0.5).astype(\"int32\")`,   if your model does binary classification   (e.g. if it uses a `sigmoid` last-layer activation).\n"
     ]
    }
   ],
   "source": [
    "predictions = model.predict_classes(X_test)"
   ]
  },
  {
   "cell_type": "code",
   "execution_count": 29,
   "metadata": {},
   "outputs": [
    {
     "name": "stdout",
     "output_type": "stream",
     "text": [
      "[[60 33]\n",
      " [14 93]]\n",
      "              precision    recall  f1-score   support\n",
      "\n",
      "           0       0.81      0.65      0.72        93\n",
      "           1       0.74      0.87      0.80       107\n",
      "\n",
      "   micro avg       0.77      0.77      0.77       200\n",
      "   macro avg       0.77      0.76      0.76       200\n",
      "weighted avg       0.77      0.77      0.76       200\n",
      "\n"
     ]
    }
   ],
   "source": [
    "from sklearn.metrics import classification_report,confusion_matrix\n",
    "\n",
    "print(confusion_matrix(y_test,predictions))\n",
    "print(classification_report(y_test,predictions))"
   ]
  },
  {
   "cell_type": "code",
   "execution_count": 30,
   "metadata": {},
   "outputs": [
    {
     "name": "stdout",
     "output_type": "stream",
     "text": [
      "[False  True False  True False]\n",
      "[False  True False  True False]\n"
     ]
    },
    {
     "name": "stderr",
     "output_type": "stream",
     "text": [
      "c:\\users\\ankita\\appdata\\local\\programs\\python\\python36\\lib\\site-packages\\sklearn\\preprocessing\\label.py:273: DataConversionWarning: A column-vector y was passed when a 1d array was expected. Please change the shape of y to (n_samples, ), for example using ravel().\n",
      "  y = column_or_1d(y, warn=True)\n"
     ]
    }
   ],
   "source": [
    "y_preds = le.inverse_transform(predictions)\n",
    "y_tests = le.inverse_transform(y_test)\n",
    "print(y_preds[0:5])\n",
    "print(y_tests[0:5])"
   ]
  },
  {
   "cell_type": "code",
   "execution_count": null,
   "metadata": {},
   "outputs": [],
   "source": []
  }
 ],
 "metadata": {
  "kernelspec": {
   "display_name": "Python 3",
   "language": "python",
   "name": "python3"
  },
  "language_info": {
   "codemirror_mode": {
    "name": "ipython",
    "version": 3
   },
   "file_extension": ".py",
   "mimetype": "text/x-python",
   "name": "python",
   "nbconvert_exporter": "python",
   "pygments_lexer": "ipython3",
   "version": "3.6.3"
  }
 },
 "nbformat": 4,
 "nbformat_minor": 4
}
